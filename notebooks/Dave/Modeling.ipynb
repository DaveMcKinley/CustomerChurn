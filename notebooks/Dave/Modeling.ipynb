{
 "cells": [
  {
   "cell_type": "code",
   "execution_count": 21,
   "id": "4392d7a8",
   "metadata": {},
   "outputs": [],
   "source": [
    "#needed libraries\n",
    "import pandas as pd\n",
    "import numpy as np\n",
    "import matplotlib.pyplot as plt\n",
    "\n",
    "from imblearn.pipeline import Pipeline\n",
    "from sklearn.compose import ColumnTransformer\n",
    "from sklearn.impute import SimpleImputer\n",
    "from sklearn.preprocessing import MaxAbsScaler, OneHotEncoder\n",
    "\n",
    "from sklearn.linear_model import LogisticRegression\n",
    "from sklearn.neighbors import KNeighborsClassifier\n",
    "from sklearn.tree import DecisionTreeClassifier, plot_tree\n",
    "\n",
    "from sklearn.model_selection import train_test_split, GridSearchCV, cross_validate\n",
    "\n",
    "from sklearn.metrics import accuracy_score, precision_score, recall_score, f1_score \n",
    "from sklearn.metrics import roc_auc_score, plot_confusion_matrix\n",
    "\n",
    "from imblearn.over_sampling import SMOTE\n",
    "\n",
    "from xgboost import XGBClassifier"
   ]
  },
  {
   "cell_type": "code",
   "execution_count": 2,
   "id": "d2a1a627",
   "metadata": {},
   "outputs": [],
   "source": [
    "#evaluate function\n",
    "def evaluate(estimator, X_tr, X_te, y_tr, y_te, roc_auc='skip'):\n",
    "    '''\n",
    "    orginial function at : \n",
    "    (https://github.com/lindseyberlin/Cat-in-the-Dat-Project/blob/main/notebooks/Lindsey/EDA-Initial-Models.ipynb)\n",
    "    Evaluation function to show a few scores for both the train and test set\n",
    "    Also shows a confusion matrix for the test set\n",
    "    \n",
    "    roc_auc allows you to set how to calculate the roc_auc score: \n",
    "    'dec' for decision_function or 'proba' for predict_proba \n",
    "    If roc_auc == 'skip', then it ignores calculating the roc_auc_score\n",
    "    \n",
    "    Inputs:\n",
    "        estimator: a fit sklearn-style model or pipeline\n",
    "        X_tr: array or pandas dataframe\n",
    "            training input variables\n",
    "        X_te: array or pandas dataframe\n",
    "            testing input variables\n",
    "        y_tr: array or pandas series\n",
    "            training output variable\n",
    "        y_te: array or pandas series\n",
    "            testing output variable\n",
    "        roc_auc: str\n",
    "            'skip': default, skips calculating roc_auc\n",
    "            'dec': use decision_function to calculate roc_auc\n",
    "            'proba': use predict_proba to calculate roc_auc\n",
    "            \n",
    "    '''\n",
    "    # Grab predictions\n",
    "    tr_preds = estimator.predict(X_tr)\n",
    "    te_preds = estimator.predict(X_te)\n",
    "    \n",
    "    # output needed for roc_auc_score\n",
    "    if roc_auc == 'skip': # skips calculating the roc_auc_score\n",
    "        train_out = False\n",
    "        test_out = False\n",
    "    elif roc_auc == 'dec': \n",
    "        train_out = estimator.decision_function(X_train)\n",
    "        test_out = estimator.decision_function(X_test)\n",
    "    elif roc_auc == 'proba': \n",
    "        train_out = estimator.predict_proba(X_train)[:, 1] # proba for the 1 class\n",
    "        test_out = estimator.predict_proba(X_test)[:, 1]\n",
    "    else:\n",
    "        raise Exception(\"The value for roc_auc should be 'skip', 'dec' or 'proba'\")    \n",
    "    \n",
    "    print(\"Training Scores:\")\n",
    "    print(f\"Train Accuracy: {accuracy_score(y_tr, tr_preds)}\")\n",
    "    print(f\"Train Precision: {precision_score(y_tr, tr_preds)}\")\n",
    "    print(f\"Train Recall: {recall_score(y_tr, tr_preds)}\")\n",
    "    print(f\"Train F1-Score: {f1_score(y_tr, tr_preds)}\")\n",
    "    if type(train_out) == np.ndarray: # checking for roc_auc\n",
    "        print(f\"ROC-AUC: {roc_auc_score(y_train, train_out)}\")\n",
    "        \n",
    "    print(\"*\" * 10)\n",
    "    print(\"Testing Scores:\")\n",
    "    print(f\"Test Accuracy: {accuracy_score(y_te, te_preds)}\")\n",
    "    print(f\"Test Precision: {precision_score(y_te, te_preds)}\")\n",
    "    print(f\"Test Recall: {recall_score(y_te, te_preds)}\")\n",
    "    print(f\"Test F1-Score: {f1_score(y_te, te_preds)}\")\n",
    "    if type(test_out) == np.ndarray: # checking for roc_auc\n",
    "        print(f\"ROC-AUC: {roc_auc_score(y_test, test_out)}\")    \n",
    "    \n",
    "    # Plot confusion matrix for test set\n",
    "    plot_confusion_matrix(estimator, X_te, y_te, values_format='.5g', cmap=plt.cm.Oranges)"
   ]
  },
  {
   "cell_type": "code",
   "execution_count": 3,
   "id": "26ea3f43",
   "metadata": {},
   "outputs": [
    {
     "data": {
      "text/html": [
       "<div>\n",
       "<style scoped>\n",
       "    .dataframe tbody tr th:only-of-type {\n",
       "        vertical-align: middle;\n",
       "    }\n",
       "\n",
       "    .dataframe tbody tr th {\n",
       "        vertical-align: top;\n",
       "    }\n",
       "\n",
       "    .dataframe thead th {\n",
       "        text-align: right;\n",
       "    }\n",
       "</style>\n",
       "<table border=\"1\" class=\"dataframe\">\n",
       "  <thead>\n",
       "    <tr style=\"text-align: right;\">\n",
       "      <th></th>\n",
       "      <th>state</th>\n",
       "      <th>account length</th>\n",
       "      <th>international plan</th>\n",
       "      <th>voice mail plan</th>\n",
       "      <th>number vmail messages</th>\n",
       "      <th>total day minutes</th>\n",
       "      <th>total day calls</th>\n",
       "      <th>total day charge</th>\n",
       "      <th>total eve minutes</th>\n",
       "      <th>total eve calls</th>\n",
       "      <th>...</th>\n",
       "      <th>total intl minutes</th>\n",
       "      <th>total intl calls</th>\n",
       "      <th>total intl charge</th>\n",
       "      <th>customer service calls</th>\n",
       "      <th>churn</th>\n",
       "      <th>total_domestic_minutes</th>\n",
       "      <th>total_domestic_calls</th>\n",
       "      <th>total_domestic_charge</th>\n",
       "      <th>total_charge</th>\n",
       "      <th>churn_rate</th>\n",
       "    </tr>\n",
       "  </thead>\n",
       "  <tbody>\n",
       "    <tr>\n",
       "      <th>0</th>\n",
       "      <td>KS</td>\n",
       "      <td>128</td>\n",
       "      <td>no</td>\n",
       "      <td>yes</td>\n",
       "      <td>25</td>\n",
       "      <td>265.1</td>\n",
       "      <td>110</td>\n",
       "      <td>45.07</td>\n",
       "      <td>197.4</td>\n",
       "      <td>99</td>\n",
       "      <td>...</td>\n",
       "      <td>10.0</td>\n",
       "      <td>3</td>\n",
       "      <td>2.70</td>\n",
       "      <td>1</td>\n",
       "      <td>False</td>\n",
       "      <td>707.2</td>\n",
       "      <td>300</td>\n",
       "      <td>72.86</td>\n",
       "      <td>75.56</td>\n",
       "      <td>med</td>\n",
       "    </tr>\n",
       "    <tr>\n",
       "      <th>1</th>\n",
       "      <td>OH</td>\n",
       "      <td>107</td>\n",
       "      <td>no</td>\n",
       "      <td>yes</td>\n",
       "      <td>26</td>\n",
       "      <td>161.6</td>\n",
       "      <td>123</td>\n",
       "      <td>27.47</td>\n",
       "      <td>195.5</td>\n",
       "      <td>103</td>\n",
       "      <td>...</td>\n",
       "      <td>13.7</td>\n",
       "      <td>3</td>\n",
       "      <td>3.70</td>\n",
       "      <td>1</td>\n",
       "      <td>False</td>\n",
       "      <td>611.5</td>\n",
       "      <td>329</td>\n",
       "      <td>55.54</td>\n",
       "      <td>59.24</td>\n",
       "      <td>med-low</td>\n",
       "    </tr>\n",
       "    <tr>\n",
       "      <th>2</th>\n",
       "      <td>NJ</td>\n",
       "      <td>137</td>\n",
       "      <td>no</td>\n",
       "      <td>no</td>\n",
       "      <td>0</td>\n",
       "      <td>243.4</td>\n",
       "      <td>114</td>\n",
       "      <td>41.38</td>\n",
       "      <td>121.2</td>\n",
       "      <td>110</td>\n",
       "      <td>...</td>\n",
       "      <td>12.2</td>\n",
       "      <td>5</td>\n",
       "      <td>3.29</td>\n",
       "      <td>0</td>\n",
       "      <td>False</td>\n",
       "      <td>527.2</td>\n",
       "      <td>328</td>\n",
       "      <td>59.00</td>\n",
       "      <td>62.29</td>\n",
       "      <td>high</td>\n",
       "    </tr>\n",
       "    <tr>\n",
       "      <th>3</th>\n",
       "      <td>OH</td>\n",
       "      <td>84</td>\n",
       "      <td>yes</td>\n",
       "      <td>no</td>\n",
       "      <td>0</td>\n",
       "      <td>299.4</td>\n",
       "      <td>71</td>\n",
       "      <td>50.90</td>\n",
       "      <td>61.9</td>\n",
       "      <td>88</td>\n",
       "      <td>...</td>\n",
       "      <td>6.6</td>\n",
       "      <td>7</td>\n",
       "      <td>1.78</td>\n",
       "      <td>2</td>\n",
       "      <td>False</td>\n",
       "      <td>558.2</td>\n",
       "      <td>248</td>\n",
       "      <td>65.02</td>\n",
       "      <td>66.80</td>\n",
       "      <td>med-low</td>\n",
       "    </tr>\n",
       "    <tr>\n",
       "      <th>4</th>\n",
       "      <td>OK</td>\n",
       "      <td>75</td>\n",
       "      <td>yes</td>\n",
       "      <td>no</td>\n",
       "      <td>0</td>\n",
       "      <td>166.7</td>\n",
       "      <td>113</td>\n",
       "      <td>28.34</td>\n",
       "      <td>148.3</td>\n",
       "      <td>122</td>\n",
       "      <td>...</td>\n",
       "      <td>10.1</td>\n",
       "      <td>3</td>\n",
       "      <td>2.73</td>\n",
       "      <td>3</td>\n",
       "      <td>False</td>\n",
       "      <td>501.9</td>\n",
       "      <td>356</td>\n",
       "      <td>49.36</td>\n",
       "      <td>52.09</td>\n",
       "      <td>med-low</td>\n",
       "    </tr>\n",
       "    <tr>\n",
       "      <th>...</th>\n",
       "      <td>...</td>\n",
       "      <td>...</td>\n",
       "      <td>...</td>\n",
       "      <td>...</td>\n",
       "      <td>...</td>\n",
       "      <td>...</td>\n",
       "      <td>...</td>\n",
       "      <td>...</td>\n",
       "      <td>...</td>\n",
       "      <td>...</td>\n",
       "      <td>...</td>\n",
       "      <td>...</td>\n",
       "      <td>...</td>\n",
       "      <td>...</td>\n",
       "      <td>...</td>\n",
       "      <td>...</td>\n",
       "      <td>...</td>\n",
       "      <td>...</td>\n",
       "      <td>...</td>\n",
       "      <td>...</td>\n",
       "      <td>...</td>\n",
       "    </tr>\n",
       "    <tr>\n",
       "      <th>3328</th>\n",
       "      <td>AZ</td>\n",
       "      <td>192</td>\n",
       "      <td>no</td>\n",
       "      <td>yes</td>\n",
       "      <td>36</td>\n",
       "      <td>156.2</td>\n",
       "      <td>77</td>\n",
       "      <td>26.55</td>\n",
       "      <td>215.5</td>\n",
       "      <td>126</td>\n",
       "      <td>...</td>\n",
       "      <td>9.9</td>\n",
       "      <td>6</td>\n",
       "      <td>2.67</td>\n",
       "      <td>2</td>\n",
       "      <td>False</td>\n",
       "      <td>650.8</td>\n",
       "      <td>286</td>\n",
       "      <td>57.43</td>\n",
       "      <td>60.10</td>\n",
       "      <td>low</td>\n",
       "    </tr>\n",
       "    <tr>\n",
       "      <th>3329</th>\n",
       "      <td>WV</td>\n",
       "      <td>68</td>\n",
       "      <td>no</td>\n",
       "      <td>no</td>\n",
       "      <td>0</td>\n",
       "      <td>231.1</td>\n",
       "      <td>57</td>\n",
       "      <td>39.29</td>\n",
       "      <td>153.4</td>\n",
       "      <td>55</td>\n",
       "      <td>...</td>\n",
       "      <td>9.6</td>\n",
       "      <td>4</td>\n",
       "      <td>2.59</td>\n",
       "      <td>3</td>\n",
       "      <td>False</td>\n",
       "      <td>575.8</td>\n",
       "      <td>235</td>\n",
       "      <td>60.94</td>\n",
       "      <td>63.53</td>\n",
       "      <td>low</td>\n",
       "    </tr>\n",
       "    <tr>\n",
       "      <th>3330</th>\n",
       "      <td>RI</td>\n",
       "      <td>28</td>\n",
       "      <td>no</td>\n",
       "      <td>no</td>\n",
       "      <td>0</td>\n",
       "      <td>180.8</td>\n",
       "      <td>109</td>\n",
       "      <td>30.74</td>\n",
       "      <td>288.8</td>\n",
       "      <td>58</td>\n",
       "      <td>...</td>\n",
       "      <td>14.1</td>\n",
       "      <td>6</td>\n",
       "      <td>3.81</td>\n",
       "      <td>2</td>\n",
       "      <td>False</td>\n",
       "      <td>661.5</td>\n",
       "      <td>258</td>\n",
       "      <td>63.93</td>\n",
       "      <td>67.74</td>\n",
       "      <td>low</td>\n",
       "    </tr>\n",
       "    <tr>\n",
       "      <th>3331</th>\n",
       "      <td>CT</td>\n",
       "      <td>184</td>\n",
       "      <td>yes</td>\n",
       "      <td>no</td>\n",
       "      <td>0</td>\n",
       "      <td>213.8</td>\n",
       "      <td>105</td>\n",
       "      <td>36.35</td>\n",
       "      <td>159.6</td>\n",
       "      <td>84</td>\n",
       "      <td>...</td>\n",
       "      <td>5.0</td>\n",
       "      <td>10</td>\n",
       "      <td>1.35</td>\n",
       "      <td>2</td>\n",
       "      <td>False</td>\n",
       "      <td>512.6</td>\n",
       "      <td>326</td>\n",
       "      <td>56.18</td>\n",
       "      <td>57.53</td>\n",
       "      <td>med</td>\n",
       "    </tr>\n",
       "    <tr>\n",
       "      <th>3332</th>\n",
       "      <td>TN</td>\n",
       "      <td>74</td>\n",
       "      <td>no</td>\n",
       "      <td>yes</td>\n",
       "      <td>25</td>\n",
       "      <td>234.4</td>\n",
       "      <td>113</td>\n",
       "      <td>39.85</td>\n",
       "      <td>265.9</td>\n",
       "      <td>82</td>\n",
       "      <td>...</td>\n",
       "      <td>13.7</td>\n",
       "      <td>4</td>\n",
       "      <td>3.70</td>\n",
       "      <td>0</td>\n",
       "      <td>False</td>\n",
       "      <td>741.7</td>\n",
       "      <td>272</td>\n",
       "      <td>73.31</td>\n",
       "      <td>77.01</td>\n",
       "      <td>low</td>\n",
       "    </tr>\n",
       "  </tbody>\n",
       "</table>\n",
       "<p>3333 rows × 24 columns</p>\n",
       "</div>"
      ],
      "text/plain": [
       "     state  account length international plan voice mail plan  \\\n",
       "0       KS             128                 no             yes   \n",
       "1       OH             107                 no             yes   \n",
       "2       NJ             137                 no              no   \n",
       "3       OH              84                yes              no   \n",
       "4       OK              75                yes              no   \n",
       "...    ...             ...                ...             ...   \n",
       "3328    AZ             192                 no             yes   \n",
       "3329    WV              68                 no              no   \n",
       "3330    RI              28                 no              no   \n",
       "3331    CT             184                yes              no   \n",
       "3332    TN              74                 no             yes   \n",
       "\n",
       "      number vmail messages  total day minutes  total day calls  \\\n",
       "0                        25              265.1              110   \n",
       "1                        26              161.6              123   \n",
       "2                         0              243.4              114   \n",
       "3                         0              299.4               71   \n",
       "4                         0              166.7              113   \n",
       "...                     ...                ...              ...   \n",
       "3328                     36              156.2               77   \n",
       "3329                      0              231.1               57   \n",
       "3330                      0              180.8              109   \n",
       "3331                      0              213.8              105   \n",
       "3332                     25              234.4              113   \n",
       "\n",
       "      total day charge  total eve minutes  total eve calls  ...  \\\n",
       "0                45.07              197.4               99  ...   \n",
       "1                27.47              195.5              103  ...   \n",
       "2                41.38              121.2              110  ...   \n",
       "3                50.90               61.9               88  ...   \n",
       "4                28.34              148.3              122  ...   \n",
       "...                ...                ...              ...  ...   \n",
       "3328             26.55              215.5              126  ...   \n",
       "3329             39.29              153.4               55  ...   \n",
       "3330             30.74              288.8               58  ...   \n",
       "3331             36.35              159.6               84  ...   \n",
       "3332             39.85              265.9               82  ...   \n",
       "\n",
       "      total intl minutes  total intl calls  total intl charge  \\\n",
       "0                   10.0                 3               2.70   \n",
       "1                   13.7                 3               3.70   \n",
       "2                   12.2                 5               3.29   \n",
       "3                    6.6                 7               1.78   \n",
       "4                   10.1                 3               2.73   \n",
       "...                  ...               ...                ...   \n",
       "3328                 9.9                 6               2.67   \n",
       "3329                 9.6                 4               2.59   \n",
       "3330                14.1                 6               3.81   \n",
       "3331                 5.0                10               1.35   \n",
       "3332                13.7                 4               3.70   \n",
       "\n",
       "      customer service calls  churn  total_domestic_minutes  \\\n",
       "0                          1  False                   707.2   \n",
       "1                          1  False                   611.5   \n",
       "2                          0  False                   527.2   \n",
       "3                          2  False                   558.2   \n",
       "4                          3  False                   501.9   \n",
       "...                      ...    ...                     ...   \n",
       "3328                       2  False                   650.8   \n",
       "3329                       3  False                   575.8   \n",
       "3330                       2  False                   661.5   \n",
       "3331                       2  False                   512.6   \n",
       "3332                       0  False                   741.7   \n",
       "\n",
       "      total_domestic_calls  total_domestic_charge  total_charge  churn_rate  \n",
       "0                      300                  72.86         75.56         med  \n",
       "1                      329                  55.54         59.24     med-low  \n",
       "2                      328                  59.00         62.29        high  \n",
       "3                      248                  65.02         66.80     med-low  \n",
       "4                      356                  49.36         52.09     med-low  \n",
       "...                    ...                    ...           ...         ...  \n",
       "3328                   286                  57.43         60.10         low  \n",
       "3329                   235                  60.94         63.53         low  \n",
       "3330                   258                  63.93         67.74         low  \n",
       "3331                   326                  56.18         57.53         med  \n",
       "3332                   272                  73.31         77.01         low  \n",
       "\n",
       "[3333 rows x 24 columns]"
      ]
     },
     "execution_count": 3,
     "metadata": {},
     "output_type": "execute_result"
    }
   ],
   "source": [
    "#pulling our pickled dataframe from EDA notebook\n",
    "df = pd.read_pickle(\"../../data/model1.pkl\")\n",
    "df"
   ]
  },
  {
   "cell_type": "code",
   "execution_count": 4,
   "id": "55a5a576",
   "metadata": {},
   "outputs": [
    {
     "name": "stdout",
     "output_type": "stream",
     "text": [
      "<class 'pandas.core.frame.DataFrame'>\n",
      "RangeIndex: 3333 entries, 0 to 3332\n",
      "Data columns (total 24 columns):\n",
      " #   Column                  Non-Null Count  Dtype  \n",
      "---  ------                  --------------  -----  \n",
      " 0   state                   3333 non-null   object \n",
      " 1   account length          3333 non-null   int64  \n",
      " 2   international plan      3333 non-null   object \n",
      " 3   voice mail plan         3333 non-null   object \n",
      " 4   number vmail messages   3333 non-null   int64  \n",
      " 5   total day minutes       3333 non-null   float64\n",
      " 6   total day calls         3333 non-null   int64  \n",
      " 7   total day charge        3333 non-null   float64\n",
      " 8   total eve minutes       3333 non-null   float64\n",
      " 9   total eve calls         3333 non-null   int64  \n",
      " 10  total eve charge        3333 non-null   float64\n",
      " 11  total night minutes     3333 non-null   float64\n",
      " 12  total night calls       3333 non-null   int64  \n",
      " 13  total night charge      3333 non-null   float64\n",
      " 14  total intl minutes      3333 non-null   float64\n",
      " 15  total intl calls        3333 non-null   int64  \n",
      " 16  total intl charge       3333 non-null   float64\n",
      " 17  customer service calls  3333 non-null   int64  \n",
      " 18  churn                   3333 non-null   bool   \n",
      " 19  total_domestic_minutes  3333 non-null   float64\n",
      " 20  total_domestic_calls    3333 non-null   int64  \n",
      " 21  total_domestic_charge   3333 non-null   float64\n",
      " 22  total_charge            3333 non-null   float64\n",
      " 23  churn_rate              3333 non-null   object \n",
      "dtypes: bool(1), float64(11), int64(8), object(4)\n",
      "memory usage: 602.3+ KB\n"
     ]
    }
   ],
   "source": [
    "#sanity check the dataset\n",
    "df.info()"
   ]
  },
  {
   "cell_type": "markdown",
   "id": "b518ffa4",
   "metadata": {},
   "source": [
    "## Model-less evaluation"
   ]
  },
  {
   "cell_type": "code",
   "execution_count": 5,
   "id": "3995acd0",
   "metadata": {},
   "outputs": [
    {
     "data": {
      "text/plain": [
       "False    0.855086\n",
       "True     0.144914\n",
       "Name: churn, dtype: float64"
      ]
     },
     "execution_count": 5,
     "metadata": {},
     "output_type": "execute_result"
    }
   ],
   "source": [
    "df[\"churn\"].value_counts(normalize=True)"
   ]
  },
  {
   "cell_type": "markdown",
   "id": "c5233149",
   "metadata": {},
   "source": [
    "The model would only be right 14.5% of the time if the model only guessed every customer would leave."
   ]
  },
  {
   "cell_type": "markdown",
   "id": "84463f56",
   "metadata": {},
   "source": [
    "As we devlop our models, we will be optomizing the recall score of our models. Our strategies We may identify more people as leaving, but in reality they stay. The company will spend some resources to retain the customer. However, that the cost of keeping them engaged with the company far outweighs the cost of identifying someone as staying and in actuality they leave the company. The company would lose a customer and then have to spend more resources to get a new customer in their place."
   ]
  },
  {
   "cell_type": "markdown",
   "id": "2762e546",
   "metadata": {},
   "source": [
    "## Pipeline\n",
    "We will build a pipeline to make preprocessing our data and running model easier than coding everything anew with every model. "
   ]
  },
  {
   "cell_type": "code",
   "execution_count": 8,
   "id": "097b4303",
   "metadata": {},
   "outputs": [],
   "source": [
    "#splits our data set to features and the target \"churn\"\n",
    "X = df.drop([\"churn\"], axis = 1)\n",
    "y= df[\"churn\"]\n",
    "#this seed will ensure we use the same random_state in all of our modeling\n",
    "seed = 42\n",
    "\n",
    "#holds 10% of my data for final evaluation.\n",
    "X_use, X_hold, y_use, y_hold = train_test_split(X, y, test_size=0.25, random_state=seed)\n",
    "\n",
    "#uses the remaining data and splits the data into test and train data to use while finding best model.\n",
    "X_train, X_test, y_train, y_test = train_test_split(X_use, y_use, test_size=0.1, random_state=seed)"
   ]
  },
  {
   "cell_type": "code",
   "execution_count": 9,
   "id": "c7130019",
   "metadata": {},
   "outputs": [
    {
     "data": {
      "text/plain": [
       "(2249, 23)"
      ]
     },
     "execution_count": 9,
     "metadata": {},
     "output_type": "execute_result"
    }
   ],
   "source": [
    "#what does our training data look like?\n",
    "X_train.shape"
   ]
  },
  {
   "cell_type": "code",
   "execution_count": 10,
   "id": "ed692955",
   "metadata": {},
   "outputs": [],
   "source": [
    "# organize columns for the pipeline\n",
    "num_cols = []\n",
    "ohe_cols = []\n",
    "\n",
    "for c in X_train.columns:\n",
    "    if X_train[c].dtype in ['float64', 'int64']:\n",
    "        num_cols.append(c)\n",
    "    else:\n",
    "        ohe_cols.append(c)"
   ]
  },
  {
   "cell_type": "code",
   "execution_count": 11,
   "id": "1b1005df",
   "metadata": {},
   "outputs": [
    {
     "name": "stdout",
     "output_type": "stream",
     "text": [
      "['account length', 'number vmail messages', 'total day minutes', 'total day calls', 'total day charge', 'total eve minutes', 'total eve calls', 'total eve charge', 'total night minutes', 'total night calls', 'total night charge', 'total intl minutes', 'total intl calls', 'total intl charge', 'customer service calls', 'total_domestic_minutes', 'total_domestic_calls', 'total_domestic_charge', 'total_charge']\n",
      "['state', 'international plan', 'voice mail plan', 'churn_rate']\n"
     ]
    }
   ],
   "source": [
    "print(num_cols)\n",
    "print(ohe_cols)"
   ]
  },
  {
   "cell_type": "code",
   "execution_count": 12,
   "id": "ab59092f",
   "metadata": {},
   "outputs": [],
   "source": [
    "#take all numerical featurres and runs them through a Simple Imputer. \n",
    "#Although we are not missing any values, we want to ensure all columns are in the pipeline \n",
    "nums = Pipeline(steps=[\n",
    "    ('num_imputer', SimpleImputer(strategy='median'))\n",
    "    ])\n",
    "\n",
    "#Takes all categorical variables and OneHotEncodes them\n",
    "ohe = Pipeline(steps=[\n",
    "    (\"ohe_encoder\", OneHotEncoder(handle_unknown=\"ignore\"))\n",
    "    ])\n"
   ]
  },
  {
   "cell_type": "code",
   "execution_count": 13,
   "id": "28f826d1",
   "metadata": {},
   "outputs": [],
   "source": [
    "#builds our preprocessor step using a ColumnTransformer\n",
    "preprocess = ColumnTransformer(\n",
    "    transformers=[\n",
    "        (\"num\", nums, num_cols),\n",
    "        (\"ohe\", ohe, ohe_cols)\n",
    "    ])"
   ]
  },
  {
   "cell_type": "code",
   "execution_count": 14,
   "id": "d6aae9dc",
   "metadata": {},
   "outputs": [
    {
     "data": {
      "text/plain": [
       "ColumnTransformer(transformers=[('num',\n",
       "                                 Pipeline(steps=[('num_imputer',\n",
       "                                                  SimpleImputer(strategy='median'))]),\n",
       "                                 ['account length', 'number vmail messages',\n",
       "                                  'total day minutes', 'total day calls',\n",
       "                                  'total day charge', 'total eve minutes',\n",
       "                                  'total eve calls', 'total eve charge',\n",
       "                                  'total night minutes', 'total night calls',\n",
       "                                  'total night charge', 'total intl minutes',\n",
       "                                  'total intl calls', 'total intl charge',\n",
       "                                  'customer service calls',\n",
       "                                  'total_domestic_minutes',\n",
       "                                  'total_domestic_calls',\n",
       "                                  'total_domestic_charge', 'total_charge']),\n",
       "                                ('ohe',\n",
       "                                 Pipeline(steps=[('ohe_encoder',\n",
       "                                                  OneHotEncoder(handle_unknown='ignore'))]),\n",
       "                                 ['state', 'international plan',\n",
       "                                  'voice mail plan', 'churn_rate'])])"
      ]
     },
     "execution_count": 14,
     "metadata": {},
     "output_type": "execute_result"
    }
   ],
   "source": [
    "#ensures all of features go through the correct steps during preprocessing\n",
    "preprocess.fit(X_train)"
   ]
  },
  {
   "cell_type": "markdown",
   "id": "348ae02b",
   "metadata": {},
   "source": [
    "## Logistic Regression\n",
    "The first model will be a logistic regression model, then we will tune some hyperparameters"
   ]
  },
  {
   "cell_type": "code",
   "execution_count": 30,
   "id": "c12031fb",
   "metadata": {},
   "outputs": [],
   "source": [
    "#features move through the preprocessing pipeline, then we oversample to address the class imbalance,\n",
    "#then we scale the data using MaxAbsScaler because of our sparse data set, finally we run the model\n",
    "logreg = Pipeline(steps=[\n",
    "    ('preprocess', preprocess),\n",
    "    (\"sampling\", SMOTE(random_state=seed)),\n",
    "    (\"scaler\", MaxAbsScaler()),\n",
    "    ('classifier', LogisticRegression(random_state=seed))\n",
    "])"
   ]
  },
  {
   "cell_type": "code",
   "execution_count": 31,
   "id": "ae2ca4ed",
   "metadata": {},
   "outputs": [
    {
     "data": {
      "text/plain": [
       "Pipeline(steps=[('preprocess',\n",
       "                 ColumnTransformer(transformers=[('num',\n",
       "                                                  Pipeline(steps=[('num_imputer',\n",
       "                                                                   SimpleImputer(strategy='median'))]),\n",
       "                                                  ['account length',\n",
       "                                                   'number vmail messages',\n",
       "                                                   'total day minutes',\n",
       "                                                   'total day calls',\n",
       "                                                   'total day charge',\n",
       "                                                   'total eve minutes',\n",
       "                                                   'total eve calls',\n",
       "                                                   'total eve charge',\n",
       "                                                   'total night minutes',\n",
       "                                                   'total night calls',\n",
       "                                                   'total night charge',\n",
       "                                                   'total intl minute...\n",
       "                                                   'customer service calls',\n",
       "                                                   'total_domestic_minutes',\n",
       "                                                   'total_domestic_calls',\n",
       "                                                   'total_domestic_charge',\n",
       "                                                   'total_charge']),\n",
       "                                                 ('ohe',\n",
       "                                                  Pipeline(steps=[('ohe_encoder',\n",
       "                                                                   OneHotEncoder(handle_unknown='ignore'))]),\n",
       "                                                  ['state',\n",
       "                                                   'international plan',\n",
       "                                                   'voice mail plan',\n",
       "                                                   'churn_rate'])])),\n",
       "                ('sampling', SMOTE(random_state=42)),\n",
       "                ('scaler', MaxAbsScaler()),\n",
       "                ('classifier', LogisticRegression(random_state=42))])"
      ]
     },
     "execution_count": 31,
     "metadata": {},
     "output_type": "execute_result"
    }
   ],
   "source": [
    "#fits the data to the pipeline\n",
    "logreg.fit(X_train, y_train)"
   ]
  },
  {
   "cell_type": "code",
   "execution_count": 66,
   "id": "93bb8e6c",
   "metadata": {},
   "outputs": [
    {
     "name": "stderr",
     "output_type": "stream",
     "text": [
      "C:\\Users\\david\\anaconda3\\envs\\learn-env\\lib\\site-packages\\sklearn\\linear_model\\_logistic.py:763: ConvergenceWarning: lbfgs failed to converge (status=1):\n",
      "STOP: TOTAL NO. of ITERATIONS REACHED LIMIT.\n",
      "\n",
      "Increase the number of iterations (max_iter) or scale the data as shown in:\n",
      "    https://scikit-learn.org/stable/modules/preprocessing.html\n",
      "Please also refer to the documentation for alternative solver options:\n",
      "    https://scikit-learn.org/stable/modules/linear_model.html#logistic-regression\n",
      "  n_iter_i = _check_optimize_result(\n"
     ]
    },
    {
     "data": {
      "text/plain": [
       "{'fit_time': array([0.10700727, 0.10600448, 0.09200883, 0.12501049, 0.08500576]),\n",
       " 'score_time': array([0.00899816, 0.00999904, 0.00999856, 0.01100135, 0.0090034 ]),\n",
       " 'test_score': array([0.625     , 0.6875    , 0.67692308, 0.70769231, 0.71875   ]),\n",
       " 'train_score': array([0.74031008, 0.75581395, 0.74708171, 0.74319066, 0.75581395])}"
      ]
     },
     "execution_count": 66,
     "metadata": {},
     "output_type": "execute_result"
    }
   ],
   "source": [
    "cross_validate(logreg, X_train, y_train, return_train_score=True, scoring=\"recall\")"
   ]
  },
  {
   "cell_type": "markdown",
   "id": "6ccfe27f",
   "metadata": {},
   "source": [
    "The model stopped at the total number of iterations and could not complete its analysis. This will be adjusted when we tune the hyperparameters."
   ]
  },
  {
   "cell_type": "code",
   "execution_count": 33,
   "id": "2a9eec1c",
   "metadata": {},
   "outputs": [
    {
     "name": "stdout",
     "output_type": "stream",
     "text": [
      "Training Scores:\n",
      "Train Accuracy: 0.791907514450867\n",
      "Train Precision: 0.38522012578616355\n",
      "Train Recall: 0.7608695652173914\n",
      "Train F1-Score: 0.511482254697286\n",
      "ROC-AUC: 0.8381434792278412\n",
      "**********\n",
      "Testing Scores:\n",
      "Test Accuracy: 0.768\n",
      "Test Precision: 0.3333333333333333\n",
      "Test Recall: 0.6111111111111112\n",
      "Test F1-Score: 0.43137254901960786\n",
      "ROC-AUC: 0.77466251298027\n"
     ]
    },
    {
     "data": {
      "image/png": "[encoded data removed]",
      "text/plain": [
       "<Figure size 432x288 with 2 Axes>"
      ]
     },
     "metadata": {
      "needs_background": "light"
     },
     "output_type": "display_data"
    }
   ],
   "source": [
    "evaluate(logreg, X_train, X_test, y_train, y_test, roc_auc='proba')"
   ]
  },
  {
   "cell_type": "markdown",
   "id": "7fd62c55",
   "metadata": {},
   "source": [
    "The evaluation function shows the does not perform very well. While precision metric is not the most important, its still must be accounted for in deciding what model to use. The recall score dropped quite a bit meaning the model is failing to caputure churned customers."
   ]
  },
  {
   "cell_type": "markdown",
   "id": "0e2d9e05",
   "metadata": {},
   "source": [
    "## Logistical Regression with Tuning"
   ]
  },
  {
   "cell_type": "code",
   "execution_count": 114,
   "id": "af428c63",
   "metadata": {},
   "outputs": [],
   "source": [
    "logreg_tuned = Pipeline(steps=[\n",
    "    ('preprocess', preprocess),\n",
    "    (\"sampling\", SMOTE(random_state=seed)),\n",
    "    (\"scaler\", MaxAbsScaler()),\n",
    "    ('classifier', LogisticRegression(random_state=seed))\n",
    "])"
   ]
  },
  {
   "cell_type": "code",
   "execution_count": 115,
   "id": "faa173ed",
   "metadata": {},
   "outputs": [],
   "source": [
    "#here we will adjust the max iterations, penalty, the regulation power \n",
    "#and use a liblinear solver due to the choices in penalty and the size of the data set\n",
    "param_grid = {\n",
    "    'classifier__max_iter': [1000, 10000, 100000],\n",
    "    'classifier__penalty': ['l1', 'l2'],\n",
    "    'classifier__C': [1, 5, 10, 100],\n",
    "    'classifier__solver': [\"liblinear\"]\n",
    "}"
   ]
  },
  {
   "cell_type": "code",
   "execution_count": 116,
   "id": "29552f99",
   "metadata": {},
   "outputs": [],
   "source": [
    "grid = GridSearchCV(logreg_tuned, param_grid)"
   ]
  },
  {
   "cell_type": "code",
   "execution_count": 117,
   "id": "acc9bbee",
   "metadata": {
    "scrolled": true
   },
   "outputs": [],
   "source": [
    "output = grid.fit(X_train, y_train)"
   ]
  },
  {
   "cell_type": "code",
   "execution_count": 118,
   "id": "d032d91b",
   "metadata": {},
   "outputs": [
    {
     "data": {
      "text/plain": [
       "{'classifier__C': 1,\n",
       " 'classifier__max_iter': 1000,\n",
       " 'classifier__penalty': 'l1',\n",
       " 'classifier__solver': 'liblinear'}"
      ]
     },
     "execution_count": 118,
     "metadata": {},
     "output_type": "execute_result"
    }
   ],
   "source": [
    "#best parameters based on the grid search\n",
    "output.best_params_"
   ]
  },
  {
   "cell_type": "code",
   "execution_count": 119,
   "id": "3c450bc3",
   "metadata": {},
   "outputs": [
    {
     "name": "stdout",
     "output_type": "stream",
     "text": [
      "Training Scores:\n",
      "Train Accuracy: 0.7865777407253022\n",
      "Train Precision: 0.39111747851002865\n",
      "Train Recall: 0.7583333333333333\n",
      "Train F1-Score: 0.5160680529300568\n",
      "ROC-AUC: 0.8400359653424881\n",
      "**********\n",
      "Testing Scores:\n",
      "Test Accuracy: 0.7683333333333333\n",
      "Test Precision: 0.2865853658536585\n",
      "Test Recall: 0.6811594202898551\n",
      "Test F1-Score: 0.40343347639484983\n",
      "ROC-AUC: 0.8191544529053741\n"
     ]
    },
    {
     "data": {
      "image/png": "[encoded data removed]",
      "text/plain": [
       "<Figure size 432x288 with 2 Axes>"
      ]
     },
     "metadata": {
      "needs_background": "light"
     },
     "output_type": "display_data"
    }
   ],
   "source": [
    "evaluate(output.best_estimator_, X_train, X_test, y_train, y_test, roc_auc='proba')"
   ]
  },
  {
   "cell_type": "markdown",
   "id": "94e884ee",
   "metadata": {},
   "source": [
    "The tuned model performed the same as the untuned model. This may be caused by the number of features we use for model. There may some multicollinearity issues causing poor performance. Considering time constraints we will move on to the next model. "
   ]
  },
  {
   "cell_type": "markdown",
   "id": "87aec442",
   "metadata": {},
   "source": [
    "## Nearest Neighbors"
   ]
  },
  {
   "cell_type": "code",
   "execution_count": 48,
   "id": "80dfba9b",
   "metadata": {},
   "outputs": [],
   "source": [
    "#We will use the same steps as before, except we will use a KNeighbors model.\n",
    "knn = Pipeline(steps=[\n",
    "    ('preprocess', preprocess),\n",
    "    (\"sampling\", SMOTE(random_state=seed)),\n",
    "    (\"scaler\", MaxAbsScaler()),\n",
    "    ('classifier', KNeighborsClassifier())\n",
    "])"
   ]
  },
  {
   "cell_type": "code",
   "execution_count": 49,
   "id": "4d395820",
   "metadata": {},
   "outputs": [
    {
     "data": {
      "text/plain": [
       "Pipeline(steps=[('preprocess',\n",
       "                 ColumnTransformer(transformers=[('num',\n",
       "                                                  Pipeline(steps=[('num_imputer',\n",
       "                                                                   SimpleImputer(strategy='median'))]),\n",
       "                                                  ['account length',\n",
       "                                                   'number vmail messages',\n",
       "                                                   'total day minutes',\n",
       "                                                   'total day calls',\n",
       "                                                   'total day charge',\n",
       "                                                   'total eve minutes',\n",
       "                                                   'total eve calls',\n",
       "                                                   'total eve charge',\n",
       "                                                   'total night minutes',\n",
       "                                                   'total night calls',\n",
       "                                                   'total night charge',\n",
       "                                                   'total intl minute...\n",
       "                                                   'customer service calls',\n",
       "                                                   'total_domestic_minutes',\n",
       "                                                   'total_domestic_calls',\n",
       "                                                   'total_domestic_charge',\n",
       "                                                   'total_charge']),\n",
       "                                                 ('ohe',\n",
       "                                                  Pipeline(steps=[('ohe_encoder',\n",
       "                                                                   OneHotEncoder(handle_unknown='ignore'))]),\n",
       "                                                  ['state',\n",
       "                                                   'international plan',\n",
       "                                                   'voice mail plan',\n",
       "                                                   'churn_rate'])])),\n",
       "                ('sampling', SMOTE(random_state=42)),\n",
       "                ('scaler', MaxAbsScaler()),\n",
       "                ('classifier', KNeighborsClassifier())])"
      ]
     },
     "execution_count": 49,
     "metadata": {},
     "output_type": "execute_result"
    }
   ],
   "source": [
    "knn.fit(X_train, y_train)"
   ]
  },
  {
   "cell_type": "code",
   "execution_count": 65,
   "id": "f088c7b1",
   "metadata": {},
   "outputs": [
    {
     "data": {
      "text/plain": [
       "{'fit_time': array([0.05100393, 0.0390079 , 0.03100586, 0.02900004, 0.03200507]),\n",
       " 'score_time': array([0.11300802, 0.11300349, 0.12100506, 0.10801363, 0.1680119 ]),\n",
       " 'test_score': array([0.375     , 0.546875  , 0.53846154, 0.44615385, 0.46875   ]),\n",
       " 'train_score': array([0.88372093, 0.89534884, 0.88326848, 0.89883268, 0.89534884])}"
      ]
     },
     "execution_count": 65,
     "metadata": {},
     "output_type": "execute_result"
    }
   ],
   "source": [
    "cross_validate(knn, X_train, y_train, return_train_score=True, scoring=\"recall\")"
   ]
  },
  {
   "cell_type": "code",
   "execution_count": 71,
   "id": "0ddf77d3",
   "metadata": {},
   "outputs": [
    {
     "name": "stdout",
     "output_type": "stream",
     "text": [
      "Training Scores:\n",
      "Train Accuracy: 0.9141840818141396\n",
      "Train Precision: 0.6387096774193548\n",
      "Train Recall: 0.922360248447205\n",
      "Train F1-Score: 0.7547649301143584\n",
      "ROC-AUC: 0.9746862983364868\n",
      "**********\n",
      "Testing Scores:\n",
      "Test Accuracy: 0.82\n",
      "Test Precision: 0.37142857142857144\n",
      "Test Recall: 0.3611111111111111\n",
      "Test F1-Score: 0.3661971830985915\n",
      "ROC-AUC: 0.6572559709241953\n"
     ]
    },
    {
     "data": {
      "image/png": "[encoded data removed]",
      "text/plain": [
       "<Figure size 432x288 with 2 Axes>"
      ]
     },
     "metadata": {
      "needs_background": "light"
     },
     "output_type": "display_data"
    }
   ],
   "source": [
    "evaluate(knn, X_train, X_test, y_train, y_test, roc_auc='proba')"
   ]
  },
  {
   "cell_type": "markdown",
   "id": "608c4a99",
   "metadata": {},
   "source": [
    "This model is wildly overfit to the testing data. All of our scores dropped when applied to the testing data."
   ]
  },
  {
   "cell_type": "markdown",
   "id": "e26bcd3b",
   "metadata": {},
   "source": [
    "## Nearest Neighbors with Tuning"
   ]
  },
  {
   "cell_type": "code",
   "execution_count": 108,
   "id": "777e9b58",
   "metadata": {},
   "outputs": [],
   "source": [
    "knn_tuned = Pipeline(steps=[\n",
    "    ('preprocess', preprocess),\n",
    "    (\"sampling\", SMOTE(random_state=seed)),\n",
    "    (\"scaler\", MaxAbsScaler()),\n",
    "    ('classifier', KNeighborsClassifier())\n",
    "])"
   ]
  },
  {
   "cell_type": "code",
   "execution_count": 109,
   "id": "684df483",
   "metadata": {},
   "outputs": [],
   "source": [
    "#for this model, we will adjust the number of nearst neighbors we will use smaller numbers becaue the data was so overfitted,\n",
    "#the weights of those neighbors, the power parameter and use the euclidean metric\n",
    "param_grid = {\n",
    "    'classifier__n_neighbors': [2, 4, 5],\n",
    "    'classifier__weights': ['uniform', 'distance'],\n",
    "    'classifier__p': [2, 3, 5],\n",
    "    'classifier__metric': [\"euclidean\"]\n",
    "}"
   ]
  },
  {
   "cell_type": "code",
   "execution_count": 110,
   "id": "13662bad",
   "metadata": {},
   "outputs": [],
   "source": [
    "grid = GridSearchCV(knn_tuned, param_grid)"
   ]
  },
  {
   "cell_type": "code",
   "execution_count": 111,
   "id": "e68385fc",
   "metadata": {},
   "outputs": [],
   "source": [
    "output = grid.fit(X_train, y_train)"
   ]
  },
  {
   "cell_type": "code",
   "execution_count": 112,
   "id": "0f5055e9",
   "metadata": {},
   "outputs": [
    {
     "data": {
      "text/plain": [
       "{'classifier__metric': 'euclidean',\n",
       " 'classifier__n_neighbors': 2,\n",
       " 'classifier__p': 2,\n",
       " 'classifier__weights': 'uniform'}"
      ]
     },
     "execution_count": 112,
     "metadata": {},
     "output_type": "execute_result"
    }
   ],
   "source": [
    "output.best_params_"
   ]
  },
  {
   "cell_type": "code",
   "execution_count": 113,
   "id": "91f81058",
   "metadata": {},
   "outputs": [
    {
     "name": "stdout",
     "output_type": "stream",
     "text": [
      "Training Scores:\n",
      "Train Accuracy: 0.9891621508962067\n",
      "Train Precision: 1.0\n",
      "Train Recall: 0.9277777777777778\n",
      "Train F1-Score: 0.962536023054755\n",
      "ROC-AUC: 0.9971840771620075\n",
      "**********\n",
      "Testing Scores:\n",
      "Test Accuracy: 0.8733333333333333\n",
      "Test Precision: 0.43137254901960786\n",
      "Test Recall: 0.3188405797101449\n",
      "Test F1-Score: 0.36666666666666664\n",
      "ROC-AUC: 0.7102950408035154\n"
     ]
    },
    {
     "data": {
      "image/png": "[encoded data removed]",
      "text/plain": [
       "<Figure size 432x288 with 2 Axes>"
      ]
     },
     "metadata": {
      "needs_background": "light"
     },
     "output_type": "display_data"
    }
   ],
   "source": [
    "evaluate(output.best_estimator_, X_train, X_test, y_train, y_test, roc_auc='proba')"
   ]
  },
  {
   "cell_type": "markdown",
   "id": "ccfb1326",
   "metadata": {},
   "source": [
    "Even with a smaller number neighbors, this model is drastically overfitting. This is most likely due to the large number of features taken into account for this model."
   ]
  },
  {
   "cell_type": "markdown",
   "id": "9b9e0f8d",
   "metadata": {},
   "source": [
    "## Decision Tree"
   ]
  },
  {
   "cell_type": "code",
   "execution_count": 67,
   "id": "e153e67c",
   "metadata": {},
   "outputs": [],
   "source": [
    "#we will follow the same steps as before, but without the scaling step.\n",
    "#Decision trees do not need scaling because they are nonparametric\n",
    "dt = Pipeline(steps=[\n",
    "    ('preprocess', preprocess),\n",
    "    (\"sampling\", SMOTE(random_state=seed)),\n",
    "    ('classifier', DecisionTreeClassifier(random_state=seed))\n",
    "])"
   ]
  },
  {
   "cell_type": "code",
   "execution_count": 68,
   "id": "01385d4a",
   "metadata": {},
   "outputs": [
    {
     "data": {
      "text/plain": [
       "Pipeline(steps=[('preprocess',\n",
       "                 ColumnTransformer(transformers=[('num',\n",
       "                                                  Pipeline(steps=[('num_imputer',\n",
       "                                                                   SimpleImputer(strategy='median'))]),\n",
       "                                                  ['account length',\n",
       "                                                   'number vmail messages',\n",
       "                                                   'total day minutes',\n",
       "                                                   'total day calls',\n",
       "                                                   'total day charge',\n",
       "                                                   'total eve minutes',\n",
       "                                                   'total eve calls',\n",
       "                                                   'total eve charge',\n",
       "                                                   'total night minutes',\n",
       "                                                   'total night calls',\n",
       "                                                   'total night charge',\n",
       "                                                   'total intl minute...\n",
       "                                                   'total intl charge',\n",
       "                                                   'customer service calls',\n",
       "                                                   'total_domestic_minutes',\n",
       "                                                   'total_domestic_calls',\n",
       "                                                   'total_domestic_charge',\n",
       "                                                   'total_charge']),\n",
       "                                                 ('ohe',\n",
       "                                                  Pipeline(steps=[('ohe_encoder',\n",
       "                                                                   OneHotEncoder(handle_unknown='ignore'))]),\n",
       "                                                  ['state',\n",
       "                                                   'international plan',\n",
       "                                                   'voice mail plan',\n",
       "                                                   'churn_rate'])])),\n",
       "                ('sampling', SMOTE(random_state=42)),\n",
       "                ('classifier', DecisionTreeClassifier(random_state=42))])"
      ]
     },
     "execution_count": 68,
     "metadata": {},
     "output_type": "execute_result"
    }
   ],
   "source": [
    "dt.fit(X_train, y_train)"
   ]
  },
  {
   "cell_type": "code",
   "execution_count": 69,
   "id": "a8302a7d",
   "metadata": {},
   "outputs": [
    {
     "data": {
      "text/plain": [
       "{'fit_time': array([0.09100318, 0.08400846, 0.08500671, 0.08300591, 0.09500432]),\n",
       " 'score_time': array([0.01100159, 0.00799847, 0.0079987 , 0.01000118, 0.01100254]),\n",
       " 'test_score': array([0.78125   , 0.890625  , 0.81538462, 0.86153846, 0.859375  ]),\n",
       " 'train_score': array([1., 1., 1., 1., 1.])}"
      ]
     },
     "execution_count": 69,
     "metadata": {},
     "output_type": "execute_result"
    }
   ],
   "source": [
    "cross_validate(dt, X_train, y_train, return_train_score=True, scoring=\"recall\")"
   ]
  },
  {
   "cell_type": "code",
   "execution_count": 70,
   "id": "aca09363",
   "metadata": {},
   "outputs": [
    {
     "name": "stdout",
     "output_type": "stream",
     "text": [
      "Training Scores:\n",
      "Train Accuracy: 1.0\n",
      "Train Precision: 1.0\n",
      "Train Recall: 1.0\n",
      "Train F1-Score: 1.0\n",
      "ROC-AUC: 1.0\n",
      "**********\n",
      "Testing Scores:\n",
      "Test Accuracy: 0.948\n",
      "Test Precision: 0.8484848484848485\n",
      "Test Recall: 0.7777777777777778\n",
      "Test F1-Score: 0.8115942028985507\n",
      "ROC-AUC: 0.8772066458982347\n"
     ]
    },
    {
     "data": {
      "image/png": "[encoded data removed]",
      "text/plain": [
       "<Figure size 432x288 with 2 Axes>"
      ]
     },
     "metadata": {
      "needs_background": "light"
     },
     "output_type": "display_data"
    }
   ],
   "source": [
    "evaluate(dt, X_train, X_test, y_train, y_test, roc_auc='proba')"
   ]
  },
  {
   "cell_type": "markdown",
   "id": "19710b16",
   "metadata": {},
   "source": [
    "Like the other untuned models, this model is very overfit. With so many parameters and no max depth set the model goes down as far as it can resulting in the overfitting."
   ]
  },
  {
   "cell_type": "markdown",
   "id": "4f421bdc",
   "metadata": {},
   "source": [
    "## Decision Tree with Tuning"
   ]
  },
  {
   "cell_type": "code",
   "execution_count": 73,
   "id": "64509a91",
   "metadata": {},
   "outputs": [],
   "source": [
    "dt_tuned = Pipeline(steps=[\n",
    "    ('preprocess', preprocess),\n",
    "    (\"sampling\", SMOTE(random_state=seed)),\n",
    "    ('classifier', DecisionTreeClassifier(random_state=seed))\n",
    "])"
   ]
  },
  {
   "cell_type": "code",
   "execution_count": 74,
   "id": "0fc19945",
   "metadata": {},
   "outputs": [],
   "source": [
    "#For this tuned model, we decided to adjust for the max depth to prevent over fitting\n",
    "#additionally we wanted to adjust the number of samples needed to split internal nodes \n",
    "#by trying to constrain the model a bit more.\n",
    "#and, we adjusted the min_samples_leaaf parameter to prevent the tree from splitting nodes to far down. \n",
    "param_grid = {\n",
    "    \"classifier__max_depth\": [3, 5, 7, 10],\n",
    "    \"classifier__min_samples_split\": [2, 3, 5,10],\n",
    "    \"classifier__min_samples_leaf\": [2, 3, 5,10]\n",
    "}"
   ]
  },
  {
   "cell_type": "code",
   "execution_count": 75,
   "id": "75509e11",
   "metadata": {},
   "outputs": [],
   "source": [
    "grid_dt = GridSearchCV(dt_tuned, param_grid)"
   ]
  },
  {
   "cell_type": "code",
   "execution_count": 76,
   "id": "e05bb2e1",
   "metadata": {},
   "outputs": [],
   "source": [
    "output = grid_dt.fit(X_train, y_train)"
   ]
  },
  {
   "cell_type": "code",
   "execution_count": 77,
   "id": "633d890e",
   "metadata": {},
   "outputs": [
    {
     "data": {
      "text/plain": [
       "{'classifier__max_depth': 5,\n",
       " 'classifier__min_samples_leaf': 2,\n",
       " 'classifier__min_samples_split': 2}"
      ]
     },
     "execution_count": 77,
     "metadata": {},
     "output_type": "execute_result"
    }
   ],
   "source": [
    "output.best_params_"
   ]
  },
  {
   "cell_type": "code",
   "execution_count": 78,
   "id": "ce31eb35",
   "metadata": {
    "scrolled": false
   },
   "outputs": [
    {
     "name": "stdout",
     "output_type": "stream",
     "text": [
      "Training Scores:\n",
      "Train Accuracy: 0.9764339706536238\n",
      "Train Precision: 0.996309963099631\n",
      "Train Recall: 0.8385093167701864\n",
      "Train F1-Score: 0.9106239460370995\n",
      "ROC-AUC: 0.9392814434950217\n",
      "**********\n",
      "Testing Scores:\n",
      "Test Accuracy: 0.968\n",
      "Test Precision: 0.9666666666666667\n",
      "Test Recall: 0.8055555555555556\n",
      "Test F1-Score: 0.8787878787878789\n",
      "ROC-AUC: 0.9069963655244029\n"
     ]
    },
    {
     "data": {
      "image/png": "[encoded data removed]",
      "text/plain": [
       "<Figure size 432x288 with 2 Axes>"
      ]
     },
     "metadata": {
      "needs_background": "light"
     },
     "output_type": "display_data"
    }
   ],
   "source": [
    "evaluate(output.best_estimator_, X_train, X_test, y_train, y_test, roc_auc='proba')"
   ]
  },
  {
   "cell_type": "markdown",
   "id": "6fcce63b",
   "metadata": {},
   "source": [
    "This model is the best performing model yet. Accurancy is maintained, and there is only a slight drop in the recall score. These score shows the model is fitting the testing data well and able to generalize to the testing data."
   ]
  },
  {
   "cell_type": "markdown",
   "id": "419b3ac7",
   "metadata": {},
   "source": [
    "## XGBoost\n",
    "Due to the nature of our business problem, we are focused more on analysis rather than building a black box model, however that does not mean at least one of these options should be investigated to see the results."
   ]
  },
  {
   "cell_type": "code",
   "execution_count": 79,
   "id": "70fb3ce3",
   "metadata": {},
   "outputs": [],
   "source": [
    "xgb = Pipeline(steps=[\n",
    "    ('preprocess', preprocess),\n",
    "    (\"sampling\", SMOTE(random_state=seed)),\n",
    "    ('classifier', XGBClassifier(random_state=seed))\n",
    "])"
   ]
  },
  {
   "cell_type": "code",
   "execution_count": 80,
   "id": "47a83246",
   "metadata": {},
   "outputs": [
    {
     "data": {
      "text/plain": [
       "Pipeline(steps=[('preprocess',\n",
       "                 ColumnTransformer(transformers=[('num',\n",
       "                                                  Pipeline(steps=[('num_imputer',\n",
       "                                                                   SimpleImputer(strategy='median'))]),\n",
       "                                                  ['account length',\n",
       "                                                   'number vmail messages',\n",
       "                                                   'total day minutes',\n",
       "                                                   'total day calls',\n",
       "                                                   'total day charge',\n",
       "                                                   'total eve minutes',\n",
       "                                                   'total eve calls',\n",
       "                                                   'total eve charge',\n",
       "                                                   'total night minutes',\n",
       "                                                   'total night calls',\n",
       "                                                   'total night charge',\n",
       "                                                   'total intl minute...\n",
       "                               colsample_bytree=1, gamma=0, gpu_id=-1,\n",
       "                               importance_type='gain',\n",
       "                               interaction_constraints='',\n",
       "                               learning_rate=0.300000012, max_delta_step=0,\n",
       "                               max_depth=6, min_child_weight=1, missing=nan,\n",
       "                               monotone_constraints='()', n_estimators=100,\n",
       "                               n_jobs=0, num_parallel_tree=1, random_state=42,\n",
       "                               reg_alpha=0, reg_lambda=1, scale_pos_weight=1,\n",
       "                               subsample=1, tree_method='exact',\n",
       "                               validate_parameters=1, verbosity=None))])"
      ]
     },
     "execution_count": 80,
     "metadata": {},
     "output_type": "execute_result"
    }
   ],
   "source": [
    "xgb.fit(X_train, y_train)"
   ]
  },
  {
   "cell_type": "code",
   "execution_count": 81,
   "id": "95aec5d7",
   "metadata": {},
   "outputs": [
    {
     "data": {
      "text/plain": [
       "{'fit_time': array([0.33202076, 0.28602123, 0.32902718, 0.32702374, 0.29202175]),\n",
       " 'score_time': array([0.01900148, 0.01800132, 0.02300048, 0.01900148, 0.02000403]),\n",
       " 'test_score': array([0.8125    , 0.875     , 0.84615385, 0.87692308, 0.875     ]),\n",
       " 'train_score': array([1., 1., 1., 1., 1.])}"
      ]
     },
     "execution_count": 81,
     "metadata": {},
     "output_type": "execute_result"
    }
   ],
   "source": [
    "cross_validate(xgb, X_train, y_train, return_train_score=True, scoring = \"recall\")"
   ]
  },
  {
   "cell_type": "code",
   "execution_count": 82,
   "id": "9e16fb50",
   "metadata": {},
   "outputs": [
    {
     "name": "stdout",
     "output_type": "stream",
     "text": [
      "Training Scores:\n",
      "Train Accuracy: 1.0\n",
      "Train Precision: 1.0\n",
      "Train Recall: 1.0\n",
      "Train F1-Score: 1.0\n",
      "ROC-AUC: 1.0\n",
      "**********\n",
      "Testing Scores:\n",
      "Test Accuracy: 0.976\n",
      "Test Precision: 1.0\n",
      "Test Recall: 0.8333333333333334\n",
      "Test F1-Score: 0.9090909090909091\n",
      "ROC-AUC: 0.9273104880581514\n"
     ]
    },
    {
     "data": {
      "image/png": "[encoded data removed]",
      "text/plain": [
       "<Figure size 432x288 with 2 Axes>"
      ]
     },
     "metadata": {
      "needs_background": "light"
     },
     "output_type": "display_data"
    }
   ],
   "source": [
    "evaluate(xgb, X_train, X_test, y_train, y_test, roc_auc='proba')"
   ]
  },
  {
   "cell_type": "markdown",
   "id": "b6a740cc",
   "metadata": {},
   "source": [
    "As with the the other orginal models, this is overfitting to the testing data. While this Model may not be suited for our business solution, we will still tune some hyper parameters to see if we can improve performance."
   ]
  },
  {
   "cell_type": "markdown",
   "id": "ef981a56",
   "metadata": {},
   "source": [
    "## XGBoost with Tuning"
   ]
  },
  {
   "cell_type": "code",
   "execution_count": 83,
   "id": "001b15bc",
   "metadata": {},
   "outputs": [],
   "source": [
    "xgb_grid = Pipeline(steps=[\n",
    "    ('preprocess', preprocess),\n",
    "    (\"sampling\", SMOTE(random_state=seed)),\n",
    "    ('classifier', XGBClassifier(random_state=seed))\n",
    "])"
   ]
  },
  {
   "cell_type": "code",
   "execution_count": 120,
   "id": "7975f68b",
   "metadata": {},
   "outputs": [],
   "source": [
    "#for tuning this model, we decided to investigate the number of trees in each round.\n",
    "#we chose slighlty smaller numbers out of compuational complexity concerns.\n",
    "#We wanted look at how the weighting of the trees effects the models performance\n",
    "#and same as with the simple decision tree, we decided to control for the max depth, to limit overfitting. \n",
    "param_grid = {\n",
    "    \"classifier__n_estimators\": [100, 500, 1000],\n",
    "    \"classifier__learning_rate\": [.0001, .001, .01, .1],\n",
    "    \"classifier__max_depth\": [2, 3, 4, 5]\n",
    "}"
   ]
  },
  {
   "cell_type": "code",
   "execution_count": 121,
   "id": "645ff807",
   "metadata": {},
   "outputs": [],
   "source": [
    "grid = GridSearchCV(xgb_grid, param_grid)"
   ]
  },
  {
   "cell_type": "code",
   "execution_count": 122,
   "id": "e9add991",
   "metadata": {},
   "outputs": [],
   "source": [
    "output = grid.fit(X_train, y_train)"
   ]
  },
  {
   "cell_type": "code",
   "execution_count": 123,
   "id": "3cfc422a",
   "metadata": {},
   "outputs": [
    {
     "data": {
      "text/plain": [
       "{'classifier__learning_rate': 0.1,\n",
       " 'classifier__max_depth': 3,\n",
       " 'classifier__n_estimators': 500}"
      ]
     },
     "execution_count": 123,
     "metadata": {},
     "output_type": "execute_result"
    }
   ],
   "source": [
    "output.best_params_"
   ]
  },
  {
   "cell_type": "code",
   "execution_count": 131,
   "id": "b3439f10",
   "metadata": {},
   "outputs": [
    {
     "name": "stdout",
     "output_type": "stream",
     "text": [
      "Training Scores:\n",
      "Train Accuracy: 0.9916631929970822\n",
      "Train Precision: 1.0\n",
      "Train Recall: 0.9444444444444444\n",
      "Train F1-Score: 0.9714285714285714\n",
      "ROC-AUC: 1.0\n",
      "**********\n",
      "Testing Scores:\n",
      "Test Accuracy: 0.9833333333333333\n",
      "Test Precision: 1.0\n",
      "Test Recall: 0.855072463768116\n",
      "Test F1-Score: 0.921875\n",
      "ROC-AUC: 0.9361882147438522\n"
     ]
    },
    {
     "data": {
      "image/png": "[encoded data removed]",
      "text/plain": [
       "<Figure size 432x288 with 2 Axes>"
      ]
     },
     "metadata": {
      "needs_background": "light"
     },
     "output_type": "display_data"
    }
   ],
   "source": [
    "evaluate(output.best_estimator_, X_train, X_test, y_train, y_test, roc_auc='proba')"
   ]
  },
  {
   "cell_type": "markdown",
   "id": "db055195",
   "metadata": {},
   "source": [
    "The model did perform well on the testing data. The accuracy and precision are almost perfect, too perfect actually, shows signs of overfitting. And based on drop in recall performance from the training to testing data shows the same."
   ]
  },
  {
   "cell_type": "markdown",
   "id": "241abcfc",
   "metadata": {},
   "source": [
    "## Final Model\n",
    "\n",
    "After running Logistic Regression, KNearest Neighbors, Decsion Tree and XGBoost models and after tuning the hyperparameters to improve performance, we have determined the best performing model is the tuned Decsion Tree. We will use this model to test on our hold out set. To prevent data leakage, the hold out set has not been touched by any of our previous modeling. "
   ]
  },
  {
   "cell_type": "code",
   "execution_count": 132,
   "id": "f1b0f6c5",
   "metadata": {},
   "outputs": [],
   "source": [
    "#here we pull up data split for the final model to work on.\n",
    "X = df.drop([\"churn\"],axis = 1)\n",
    "y= df[\"churn\"]\n",
    "seed = 42\n",
    "\n",
    "#holds 10% of my data for final evaluation.\n",
    "X_use, X_hold, y_use, y_hold = train_test_split(X, y, test_size=0.1, random_state=seed)\n",
    "\n",
    "#uses the remaining data and splits the data into test and train data to use while finding best model.\n",
    "X_train, X_test, y_train, y_test = train_test_split(X_use, y_use, test_size=0.2, random_state=seed)"
   ]
  },
  {
   "cell_type": "code",
   "execution_count": 133,
   "id": "5783ec85",
   "metadata": {},
   "outputs": [
    {
     "data": {
      "text/plain": [
       "Pipeline(steps=[('preprocess',\n",
       "                 ColumnTransformer(transformers=[('num',\n",
       "                                                  Pipeline(steps=[('num_imputer',\n",
       "                                                                   SimpleImputer(strategy='median'))]),\n",
       "                                                  ['account length',\n",
       "                                                   'number vmail messages',\n",
       "                                                   'total day minutes',\n",
       "                                                   'total day calls',\n",
       "                                                   'total day charge',\n",
       "                                                   'total eve minutes',\n",
       "                                                   'total eve calls',\n",
       "                                                   'total eve charge',\n",
       "                                                   'total night minutes',\n",
       "                                                   'total night calls',\n",
       "                                                   'total night charge',\n",
       "                                                   'total intl minute...\n",
       "                                                   'total_domestic_minutes',\n",
       "                                                   'total_domestic_calls',\n",
       "                                                   'total_domestic_charge',\n",
       "                                                   'total_charge']),\n",
       "                                                 ('ohe',\n",
       "                                                  Pipeline(steps=[('ohe_encoder',\n",
       "                                                                   OneHotEncoder(handle_unknown='ignore'))]),\n",
       "                                                  ['state',\n",
       "                                                   'international plan',\n",
       "                                                   'voice mail plan',\n",
       "                                                   'churn_rate'])])),\n",
       "                ('sampling', SMOTE(random_state=42)),\n",
       "                ('classifier',\n",
       "                 DecisionTreeClassifier(max_depth=5, min_samples_leaf=2,\n",
       "                                        random_state=42))])"
      ]
     },
     "execution_count": 133,
     "metadata": {},
     "output_type": "execute_result"
    }
   ],
   "source": [
    "dt_final = Pipeline(steps=[\n",
    "    ('preprocess', preprocess),\n",
    "    (\"sampling\", SMOTE(random_state=seed)),\n",
    "    ('classifier', DecisionTreeClassifier(max_depth = 5,\n",
    "                                          min_samples_split=2,\n",
    "                                          min_samples_leaf=2,\n",
    "                                          random_state=seed))\n",
    "])\n",
    "dt_final.fit(X_use, y_use)"
   ]
  },
  {
   "cell_type": "code",
   "execution_count": 134,
   "id": "2a76447a",
   "metadata": {},
   "outputs": [
    {
     "name": "stdout",
     "output_type": "stream",
     "text": [
      "Training Scores:\n",
      "Train Accuracy: 0.9899966655551851\n",
      "Train Precision: 1.0\n",
      "Train Recall: 0.9300699300699301\n",
      "Train F1-Score: 0.963768115942029\n",
      "ROC-AUC: 1.0\n",
      "**********\n",
      "Testing Scores:\n",
      "Test Accuracy: 0.9790419161676647\n",
      "Test Precision: 1.0\n",
      "Test Recall: 0.8703703703703703\n",
      "Test F1-Score: 0.9306930693069307\n",
      "ROC-AUC: 0.9361882147438522\n"
     ]
    },
    {
     "data": {
      "image/png": "[encoded data removed]",
      "text/plain": [
       "<Figure size 432x288 with 2 Axes>"
      ]
     },
     "metadata": {
      "needs_background": "light"
     },
     "output_type": "display_data"
    }
   ],
   "source": [
    "evaluate(output.best_estimator_, X_use, X_hold, y_use, y_hold, roc_auc='proba')"
   ]
  },
  {
   "cell_type": "markdown",
   "id": "860700f5",
   "metadata": {},
   "source": [
    "We are very pleased with performance of the tuned Decision Tree on the hold out dataset. The precision and recall scores are high on the training and testing data. There is a 1 % percent drop in recall performance but this is a small reduction. Our model is very picky about who it idemtifies and it is very good at classifying the curn status of a customer."
   ]
  },
  {
   "cell_type": "markdown",
   "id": "18b5d3c6",
   "metadata": {},
   "source": [
    "## Feature Importance\n",
    "Here we will go into our model and pull out what features carried the most weight in making decisions when splitting the nodes."
   ]
  },
  {
   "cell_type": "code",
   "execution_count": 135,
   "id": "e18f8ad8",
   "metadata": {},
   "outputs": [
    {
     "data": {
      "text/plain": [
       "(2999, 78)"
      ]
     },
     "execution_count": 135,
     "metadata": {},
     "output_type": "execute_result"
    }
   ],
   "source": [
    "#size of our holdout training data\n",
    "dt_final[\"preprocess\"].fit_transform(X_use).shape"
   ]
  },
  {
   "cell_type": "code",
   "execution_count": 136,
   "id": "8e216573",
   "metadata": {},
   "outputs": [
    {
     "data": {
      "text/html": [
       "<div>\n",
       "<style scoped>\n",
       "    .dataframe tbody tr th:only-of-type {\n",
       "        vertical-align: middle;\n",
       "    }\n",
       "\n",
       "    .dataframe tbody tr th {\n",
       "        vertical-align: top;\n",
       "    }\n",
       "\n",
       "    .dataframe thead th {\n",
       "        text-align: right;\n",
       "    }\n",
       "</style>\n",
       "<table border=\"1\" class=\"dataframe\">\n",
       "  <thead>\n",
       "    <tr style=\"text-align: right;\">\n",
       "      <th></th>\n",
       "      <th>0</th>\n",
       "    </tr>\n",
       "  </thead>\n",
       "  <tbody>\n",
       "    <tr>\n",
       "      <th>0</th>\n",
       "      <td>(0, 0)\\t145.0\\n  (0, 2)\\t199.2\\n  (0, 3)\\t12...</td>\n",
       "    </tr>\n",
       "    <tr>\n",
       "      <th>1</th>\n",
       "      <td>(0, 0)\\t179.0\\n  (0, 2)\\t170.7\\n  (0, 3)\\t54...</td>\n",
       "    </tr>\n",
       "    <tr>\n",
       "      <th>2</th>\n",
       "      <td>(0, 0)\\t98.0\\n  (0, 2)\\t126.3\\n  (0, 3)\\t102...</td>\n",
       "    </tr>\n",
       "    <tr>\n",
       "      <th>3</th>\n",
       "      <td>(0, 0)\\t10.0\\n  (0, 2)\\t222.2\\n  (0, 3)\\t127...</td>\n",
       "    </tr>\n",
       "    <tr>\n",
       "      <th>4</th>\n",
       "      <td>(0, 0)\\t66.0\\n  (0, 1)\\t36.0\\n  (0, 2)\\t106....</td>\n",
       "    </tr>\n",
       "  </tbody>\n",
       "</table>\n",
       "</div>"
      ],
      "text/plain": [
       "                                                   0\n",
       "0    (0, 0)\\t145.0\\n  (0, 2)\\t199.2\\n  (0, 3)\\t12...\n",
       "1    (0, 0)\\t179.0\\n  (0, 2)\\t170.7\\n  (0, 3)\\t54...\n",
       "2    (0, 0)\\t98.0\\n  (0, 2)\\t126.3\\n  (0, 3)\\t102...\n",
       "3    (0, 0)\\t10.0\\n  (0, 2)\\t222.2\\n  (0, 3)\\t127...\n",
       "4    (0, 0)\\t66.0\\n  (0, 1)\\t36.0\\n  (0, 2)\\t106...."
      ]
     },
     "execution_count": 136,
     "metadata": {},
     "output_type": "execute_result"
    }
   ],
   "source": [
    "pd.DataFrame(dt_final[\"preprocess\"].fit_transform(X_train)).head()"
   ]
  },
  {
   "cell_type": "code",
   "execution_count": 137,
   "id": "d834544a",
   "metadata": {},
   "outputs": [
    {
     "data": {
      "text/plain": [
       "array([0.        , 0.        , 0.        , 0.        , 0.00043856,\n",
       "       0.00158743, 0.        , 0.        , 0.        , 0.        ,\n",
       "       0.        , 0.0004478 , 0.02384175, 0.03858705, 0.21093487,\n",
       "       0.        , 0.        , 0.        , 0.33613922, 0.        ,\n",
       "       0.        , 0.        , 0.        , 0.        , 0.        ,\n",
       "       0.        , 0.        , 0.        , 0.        , 0.        ,\n",
       "       0.        , 0.        , 0.        , 0.        , 0.        ,\n",
       "       0.        , 0.        , 0.00368791, 0.        , 0.        ,\n",
       "       0.        , 0.        , 0.        , 0.        , 0.        ,\n",
       "       0.        , 0.        , 0.        , 0.        , 0.        ,\n",
       "       0.        , 0.        , 0.        , 0.        , 0.        ,\n",
       "       0.        , 0.        , 0.        , 0.        , 0.        ,\n",
       "       0.        , 0.        , 0.        , 0.        , 0.        ,\n",
       "       0.        , 0.        , 0.        , 0.        , 0.        ,\n",
       "       0.28320127, 0.00507589, 0.        , 0.04265221, 0.05340604,\n",
       "       0.        , 0.        , 0.        ])"
      ]
     },
     "execution_count": 137,
     "metadata": {},
     "output_type": "execute_result"
    }
   ],
   "source": [
    "#raw feature importances\n",
    "dt_final['classifier'].feature_importances_"
   ]
  },
  {
   "cell_type": "code",
   "execution_count": 138,
   "id": "66d7828c",
   "metadata": {},
   "outputs": [
    {
     "data": {
      "text/plain": [
       "['account length',\n",
       " 'number vmail messages',\n",
       " 'total day minutes',\n",
       " 'total day calls',\n",
       " 'total day charge',\n",
       " 'total eve minutes',\n",
       " 'total eve calls',\n",
       " 'total eve charge',\n",
       " 'total night minutes',\n",
       " 'total night calls',\n",
       " 'total night charge',\n",
       " 'total intl minutes',\n",
       " 'total intl calls',\n",
       " 'total intl charge',\n",
       " 'customer service calls',\n",
       " 'total_domestic_minutes',\n",
       " 'total_domestic_calls',\n",
       " 'total_domestic_charge',\n",
       " 'total_charge']"
      ]
     },
     "execution_count": 138,
     "metadata": {},
     "output_type": "execute_result"
    }
   ],
   "source": [
    "#list numerical features in our model\n",
    "num_cols_final = dt_final['preprocess'].transformers_[0][2]\n",
    "num_cols_final"
   ]
  },
  {
   "cell_type": "code",
   "execution_count": 139,
   "id": "1533a491",
   "metadata": {},
   "outputs": [
    {
     "data": {
      "text/plain": [
       "array(['state_AK', 'state_AL', 'state_AR', 'state_AZ', 'state_CA',\n",
       "       'state_CO', 'state_CT', 'state_DC', 'state_DE', 'state_FL',\n",
       "       'state_GA', 'state_HI', 'state_IA', 'state_ID', 'state_IL',\n",
       "       'state_IN', 'state_KS', 'state_KY', 'state_LA', 'state_MA',\n",
       "       'state_MD', 'state_ME', 'state_MI', 'state_MN', 'state_MO',\n",
       "       'state_MS', 'state_MT', 'state_NC', 'state_ND', 'state_NE',\n",
       "       'state_NH', 'state_NJ', 'state_NM', 'state_NV', 'state_NY',\n",
       "       'state_OH', 'state_OK', 'state_OR', 'state_PA', 'state_RI',\n",
       "       'state_SC', 'state_SD', 'state_TN', 'state_TX', 'state_UT',\n",
       "       'state_VA', 'state_VT', 'state_WA', 'state_WI', 'state_WV',\n",
       "       'state_WY', 'international plan_no', 'international plan_yes',\n",
       "       'voice mail plan_no', 'voice mail plan_yes', 'churn_rate_high',\n",
       "       'churn_rate_low', 'churn_rate_med', 'churn_rate_med-low'],\n",
       "      dtype=object)"
      ]
     },
     "execution_count": 139,
     "metadata": {},
     "output_type": "execute_result"
    }
   ],
   "source": [
    "#list of categorical features in our model\n",
    "ohe_cols_transformed = dt_final['preprocess'].transformers_[1][1]['ohe_encoder'].get_feature_names(ohe_cols)\n",
    "ohe_cols_transformed"
   ]
  },
  {
   "cell_type": "code",
   "execution_count": 140,
   "id": "a9f1cd99",
   "metadata": {},
   "outputs": [
    {
     "data": {
      "text/plain": [
       "['account length',\n",
       " 'number vmail messages',\n",
       " 'total day minutes',\n",
       " 'total day calls',\n",
       " 'total day charge',\n",
       " 'total eve minutes',\n",
       " 'total eve calls',\n",
       " 'total eve charge',\n",
       " 'total night minutes',\n",
       " 'total night calls',\n",
       " 'total night charge',\n",
       " 'total intl minutes',\n",
       " 'total intl calls',\n",
       " 'total intl charge',\n",
       " 'customer service calls',\n",
       " 'total_domestic_minutes',\n",
       " 'total_domestic_calls',\n",
       " 'total_domestic_charge',\n",
       " 'total_charge',\n",
       " 'state_AK',\n",
       " 'state_AL',\n",
       " 'state_AR',\n",
       " 'state_AZ',\n",
       " 'state_CA',\n",
       " 'state_CO',\n",
       " 'state_CT',\n",
       " 'state_DC',\n",
       " 'state_DE',\n",
       " 'state_FL',\n",
       " 'state_GA',\n",
       " 'state_HI',\n",
       " 'state_IA',\n",
       " 'state_ID',\n",
       " 'state_IL',\n",
       " 'state_IN',\n",
       " 'state_KS',\n",
       " 'state_KY',\n",
       " 'state_LA',\n",
       " 'state_MA',\n",
       " 'state_MD',\n",
       " 'state_ME',\n",
       " 'state_MI',\n",
       " 'state_MN',\n",
       " 'state_MO',\n",
       " 'state_MS',\n",
       " 'state_MT',\n",
       " 'state_NC',\n",
       " 'state_ND',\n",
       " 'state_NE',\n",
       " 'state_NH',\n",
       " 'state_NJ',\n",
       " 'state_NM',\n",
       " 'state_NV',\n",
       " 'state_NY',\n",
       " 'state_OH',\n",
       " 'state_OK',\n",
       " 'state_OR',\n",
       " 'state_PA',\n",
       " 'state_RI',\n",
       " 'state_SC',\n",
       " 'state_SD',\n",
       " 'state_TN',\n",
       " 'state_TX',\n",
       " 'state_UT',\n",
       " 'state_VA',\n",
       " 'state_VT',\n",
       " 'state_WA',\n",
       " 'state_WI',\n",
       " 'state_WV',\n",
       " 'state_WY',\n",
       " 'international plan_no',\n",
       " 'international plan_yes',\n",
       " 'voice mail plan_no',\n",
       " 'voice mail plan_yes',\n",
       " 'churn_rate_high',\n",
       " 'churn_rate_low',\n",
       " 'churn_rate_med',\n",
       " 'churn_rate_med-low']"
      ]
     },
     "execution_count": 140,
     "metadata": {},
     "output_type": "execute_result"
    }
   ],
   "source": [
    "#complete list of features in our model\n",
    "final_cols =[*num_cols_final, *ohe_cols_transformed]\n",
    "final_cols"
   ]
  },
  {
   "cell_type": "code",
   "execution_count": 141,
   "id": "bacfa41f",
   "metadata": {},
   "outputs": [
    {
     "data": {
      "text/html": [
       "<div>\n",
       "<style scoped>\n",
       "    .dataframe tbody tr th:only-of-type {\n",
       "        vertical-align: middle;\n",
       "    }\n",
       "\n",
       "    .dataframe tbody tr th {\n",
       "        vertical-align: top;\n",
       "    }\n",
       "\n",
       "    .dataframe thead th {\n",
       "        text-align: right;\n",
       "    }\n",
       "</style>\n",
       "<table border=\"1\" class=\"dataframe\">\n",
       "  <thead>\n",
       "    <tr style=\"text-align: right;\">\n",
       "      <th></th>\n",
       "      <th>index</th>\n",
       "      <th>0</th>\n",
       "    </tr>\n",
       "  </thead>\n",
       "  <tbody>\n",
       "    <tr>\n",
       "      <th>0</th>\n",
       "      <td>total_charge</td>\n",
       "      <td>0.336139</td>\n",
       "    </tr>\n",
       "    <tr>\n",
       "      <th>1</th>\n",
       "      <td>international plan_no</td>\n",
       "      <td>0.283201</td>\n",
       "    </tr>\n",
       "    <tr>\n",
       "      <th>2</th>\n",
       "      <td>customer service calls</td>\n",
       "      <td>0.210935</td>\n",
       "    </tr>\n",
       "    <tr>\n",
       "      <th>3</th>\n",
       "      <td>churn_rate_high</td>\n",
       "      <td>0.053406</td>\n",
       "    </tr>\n",
       "    <tr>\n",
       "      <th>4</th>\n",
       "      <td>voice mail plan_yes</td>\n",
       "      <td>0.042652</td>\n",
       "    </tr>\n",
       "    <tr>\n",
       "      <th>5</th>\n",
       "      <td>total intl charge</td>\n",
       "      <td>0.038587</td>\n",
       "    </tr>\n",
       "    <tr>\n",
       "      <th>6</th>\n",
       "      <td>total intl calls</td>\n",
       "      <td>0.023842</td>\n",
       "    </tr>\n",
       "    <tr>\n",
       "      <th>7</th>\n",
       "      <td>international plan_yes</td>\n",
       "      <td>0.005076</td>\n",
       "    </tr>\n",
       "    <tr>\n",
       "      <th>8</th>\n",
       "      <td>state_LA</td>\n",
       "      <td>0.003688</td>\n",
       "    </tr>\n",
       "    <tr>\n",
       "      <th>9</th>\n",
       "      <td>total eve minutes</td>\n",
       "      <td>0.001587</td>\n",
       "    </tr>\n",
       "  </tbody>\n",
       "</table>\n",
       "</div>"
      ],
      "text/plain": [
       "                    index         0\n",
       "0            total_charge  0.336139\n",
       "1   international plan_no  0.283201\n",
       "2  customer service calls  0.210935\n",
       "3         churn_rate_high  0.053406\n",
       "4     voice mail plan_yes  0.042652\n",
       "5       total intl charge  0.038587\n",
       "6        total intl calls  0.023842\n",
       "7  international plan_yes  0.005076\n",
       "8                state_LA  0.003688\n",
       "9       total eve minutes  0.001587"
      ]
     },
     "execution_count": 141,
     "metadata": {},
     "output_type": "execute_result"
    }
   ],
   "source": [
    "#joing the features and weights and organizing them in descending order.\n",
    "features = pd.DataFrame.from_dict(dict(zip(final_cols, dt_final['classifier'].feature_importances_)), \n",
    "                       orient='index').sort_values(by=0, ascending=False).head(10).reset_index()\n",
    "features"
   ]
  },
  {
   "cell_type": "code",
   "execution_count": 142,
   "id": "aba4c013",
   "metadata": {},
   "outputs": [
    {
     "name": "stdout",
     "output_type": "stream",
     "text": [
      "The binary tree structure has 33 nodes and has the following tree structure:\n",
      "\n",
      "node=0 is a split node: go to node 1 if X[:, 18] <= 74.05419921875 else to node 22.\n",
      "\tnode=1 is a split node: go to node 2 if X[:, 70] <= 0.9999057948589325 else to node 9.\n",
      "\t\tnode=2 is a split node: go to node 3 if X[:, 70] <= 0.0011587738990783691 else to node 8.\n",
      "\t\t\tnode=3 is a split node: go to node 4 if X[:, 12] <= 2.988521695137024 else to node 5.\n",
      "\t\t\t\tnode=4 is a leaf node.\n",
      "\t\t\t\tnode=5 is a split node: go to node 6 if X[:, 13] <= 3.482963442802429 else to node 7.\n",
      "\t\t\t\t\tnode=6 is a leaf node.\n",
      "\t\t\t\t\tnode=7 is a leaf node.\n",
      "\t\t\tnode=8 is a leaf node.\n",
      "\t\tnode=9 is a split node: go to node 10 if X[:, 14] <= 3.0163464546203613 else to node 17.\n",
      "\t\t\tnode=10 is a split node: go to node 11 if X[:, 74] <= 0.0010519216302782297 else to node 14.\n",
      "\t\t\t\tnode=11 is a split node: go to node 12 if X[:, 37] <= 0.009047150611877441 else to node 13.\n",
      "\t\t\t\t\tnode=12 is a leaf node.\n",
      "\t\t\t\t\tnode=13 is a leaf node.\n",
      "\t\t\t\tnode=14 is a split node: go to node 15 if X[:, 74] <= 0.9997719526290894 else to node 16.\n",
      "\t\t\t\t\tnode=15 is a leaf node.\n",
      "\t\t\t\t\tnode=16 is a leaf node.\n",
      "\t\t\tnode=17 is a split node: go to node 18 if X[:, 18] <= 56.71000099182129 else to node 19.\n",
      "\t\t\t\tnode=18 is a leaf node.\n",
      "\t\t\t\tnode=19 is a split node: go to node 20 if X[:, 14] <= 3.962523579597473 else to node 21.\n",
      "\t\t\t\t\tnode=20 is a leaf node.\n",
      "\t\t\t\t\tnode=21 is a leaf node.\n",
      "\tnode=22 is a split node: go to node 23 if X[:, 73] <= 0.9949547052383423 else to node 24.\n",
      "\t\tnode=23 is a leaf node.\n",
      "\t\tnode=24 is a split node: go to node 25 if X[:, 71] <= 0.5 else to node 28.\n",
      "\t\t\tnode=25 is a split node: go to node 26 if X[:, 4] <= 53.5 else to node 27.\n",
      "\t\t\t\tnode=26 is a leaf node.\n",
      "\t\t\t\tnode=27 is a leaf node.\n",
      "\t\t\tnode=28 is a split node: go to node 29 if X[:, 5] <= 263.75 else to node 32.\n",
      "\t\t\t\tnode=29 is a split node: go to node 30 if X[:, 11] <= 13.400000095367432 else to node 31.\n",
      "\t\t\t\t\tnode=30 is a leaf node.\n",
      "\t\t\t\t\tnode=31 is a leaf node.\n",
      "\t\t\t\tnode=32 is a leaf node.\n"
     ]
    }
   ],
   "source": [
    "#This code is found at :\n",
    "#https://scikit-learn.org/stable/auto_examples/tree/\n",
    "#plot_unveil_tree_structure.html#sphx-glr-auto-examples-tree-plot-unveil-tree-structure-py\n",
    "n_nodes = dt_final[\"classifier\"].tree_.node_count\n",
    "children_left = dt_final[\"classifier\"].tree_.children_left\n",
    "children_right = dt_final[\"classifier\"].tree_.children_right\n",
    "feature = dt_final[\"classifier\"].tree_.feature\n",
    "threshold = dt_final[\"classifier\"].tree_.threshold\n",
    "\n",
    "node_depth = np.zeros(shape=n_nodes, dtype=np.int64)\n",
    "is_leaves = np.zeros(shape=n_nodes, dtype=bool)\n",
    "stack = [(0, 0)]  # start with the root node id (0) and its depth (0)\n",
    "while len(stack) > 0:\n",
    "    # `pop` ensures each node is only visited once\n",
    "    node_id, depth = stack.pop()\n",
    "    node_depth[node_id] = depth\n",
    "\n",
    "    # If the left and right child of a node is not the same we have a split\n",
    "    # node\n",
    "    is_split_node = children_left[node_id] != children_right[node_id]\n",
    "    # If a split node, append left and right children and depth to `stack`\n",
    "    # so we can loop through them\n",
    "    if is_split_node:\n",
    "        stack.append((children_left[node_id], depth + 1))\n",
    "        stack.append((children_right[node_id], depth + 1))\n",
    "    else:\n",
    "        is_leaves[node_id] = True\n",
    "\n",
    "print(\n",
    "    \"The binary tree structure has {n} nodes and has \"\n",
    "    \"the following tree structure:\\n\".format(n=n_nodes)\n",
    ")\n",
    "for i in range(n_nodes):\n",
    "    if is_leaves[i]:\n",
    "        print(\n",
    "            \"{space}node={node} is a leaf node.\".format(\n",
    "                space=node_depth[i] * \"\\t\", node=i\n",
    "            )\n",
    "        )\n",
    "    else:\n",
    "        print(\n",
    "            \"{space}node={node} is a split node: \"\n",
    "            \"go to node {left} if X[:, {feature}] <= {threshold} \"\n",
    "            \"else to node {right}.\".format(\n",
    "                space=node_depth[i] * \"\\t\",\n",
    "                node=i,\n",
    "                left=children_left[i],\n",
    "                feature=feature[i],\n",
    "                threshold=threshold[i],\n",
    "                right=children_right[i],\n",
    "            )\n",
    "        )"
   ]
  },
  {
   "cell_type": "code",
   "execution_count": 143,
   "id": "eb33f53b",
   "metadata": {},
   "outputs": [
    {
     "data": {
      "image/png": "[encoded data removed]",
      "text/plain": [
       "<Figure size 1080x1080 with 1 Axes>"
      ]
     },
     "metadata": {
      "needs_background": "light"
     },
     "output_type": "display_data"
    }
   ],
   "source": [
    "#visualizes the tree\n",
    "fig, ax = plt.subplots(figsize=(15,15))\n",
    "plot_tree(dt_final[\"classifier\"], feature_names=final_cols, fontsize=10)\n",
    "plt.show()"
   ]
  },
  {
   "cell_type": "code",
   "execution_count": null,
   "id": "efa94329",
   "metadata": {},
   "outputs": [],
   "source": []
  }
 ],
 "metadata": {
  "kernelspec": {
   "display_name": "Python (learn-env)",
   "language": "python",
   "name": "learn-env"
  },
  "language_info": {
   "codemirror_mode": {
    "name": "ipython",
    "version": 3
   },
   "file_extension": ".py",
   "mimetype": "text/x-python",
   "name": "python",
   "nbconvert_exporter": "python",
   "pygments_lexer": "ipython3",
   "version": "3.8.11"
  }
 },
 "nbformat": 4,
 "nbformat_minor": 5
}
